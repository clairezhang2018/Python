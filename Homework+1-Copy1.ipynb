{
 "cells": [
  {
   "cell_type": "markdown",
   "metadata": {
    "ExecuteTime": {
     "end_time": "2018-01-09T22:16:12.534253Z",
     "start_time": "2018-01-09T22:16:12.530354Z"
    }
   },
   "source": [
    "# Homework 1: A Simple Sentiment Analysis of Tweets"
   ]
  },
  {
   "cell_type": "markdown",
   "metadata": {},
   "source": [
    "The objective of this homework is to assess your current skills and your ability to solve an unknown problem. To successfully complete this homework, you may use any resources available to you."
   ]
  },
  {
   "cell_type": "markdown",
   "metadata": {
    "ExecuteTime": {
     "end_time": "2018-01-09T22:43:29.993598Z",
     "start_time": "2018-01-09T22:43:29.974919Z"
    }
   },
   "source": [
    "You need to accomplish the following tasks:\n",
    "1. Choose a Twitter API.\n",
    "1. Configure access to the Twitter API\n",
    "2. Identify a trending topic on Twitter.\n",
    "3. Get at least 500 tweets on your trending topic.\n",
    "3. Find lists of stopwords, positive words, and negative words.\n",
    "4. Calculate the ratio of positive to negative words in your sample.\n",
    "    \n",
    "Answer the following questions: \n",
    "* __What is the ratio of positive to negative words on your trending topic?__ \n",
    "* __What is your interpretation of the ratio?__\n",
    "* __What is the managerial insight that you could offer based on your results?__\n",
    "\n",
    "If you use tutorials/code snippets that you find on the internet to complete this task, make sure that you reference them. Also make sure that the Jupyter notebook is free of mistakes, well-documented, and professionally formatted before you submit it.\n",
    "\n",
    "This homework is due on Friday, 12 2018."
   ]
  },
  {
   "cell_type": "markdown",
   "metadata": {},
   "source": [
    "Title: Twitter Sentimental Analysis\n",
    "Author: Xiao Zhang\n",
    "\n",
    "Note: before reviewing the code, I take the \"words\" in the question as \"topics\""
   ]
  },
  {
   "cell_type": "code",
   "execution_count": null,
   "metadata": {
    "ExecuteTime": {
     "end_time": "2018-01-09T22:48:15.638542Z",
     "start_time": "2018-01-09T22:48:15.633807Z"
    },
    "collapsed": true
   },
   "outputs": [],
   "source": [
    "from IPython.core.interactiveshell import InteractiveShell\n",
    "InteractiveShell.ast_node_interactivity = \"all\""
   ]
  },
  {
   "cell_type": "code",
   "execution_count": null,
   "metadata": {},
   "outputs": [],
   "source": [
    "import re\n",
    "import tweepy\n",
    "from textblob import TextBlob\n",
    "from twitter import Twitter, OAuth"
   ]
  },
  {
   "cell_type": "code",
   "execution_count": null,
   "metadata": {},
   "outputs": [],
   "source": [
    "class TwitterConsumer(object):\n",
    "    \n",
    "    try:\n",
    "        import json\n",
    "    except ImportError:\n",
    "        import simplejson as json\n",
    "    \n",
    "    \n",
    "    # Import necessary methods from \"twitter\" library\n",
    "    from twitter import Twitter, OAuth\n",
    "    \n",
    "    try:\n",
    "        \n",
    "        # My credentials to access Twitter API\n",
    "        consumer_key = 'E5NyOKATic2KVFQD8bFACi7ws'\n",
    "        consumer_secret = 'dHHBhbfpbZNDPZlUDD4ZMWYYdSwpaVbq2tsLPCrHPvZ2pe9etF'\n",
    "        access_token = '940798876210155521-sIOX6DRJ78iI6aYz8pPxNvTEDRHAfxk'\n",
    "        access_token_secret = 'YcB0GVNSzCxMw2QMs2MRucdmI3yOEDSZDTaCMyrotIUM9'\n",
    "\n",
    "        oauth = OAuth(ACCESS_TOKEN, ACCESS_SECRET, CONSUMER_KEY, CONSUMER_SECRET)\n",
    "\n",
    "        api = twitter.Api(  consumer_key='consumer_key',\n",
    "                                    consumer_secret='consumer_secret',\n",
    "                                    access_token_key='access_token',\n",
    "                                    access_token_secret='access_token_secret')\n",
    "    except:\n",
    "            print(\"Error: Authentication Failed\")\n",
    "    \n",
    "    # Remove links, special characters using simple regex statements\n",
    "    # Reference link:\n",
    "    # https://www.geeksforgeeks.org/twitter-sentiment-analysis-using-python/\n",
    "    def revised_tweet(oauth, tweet):\n",
    "        return ' '.join(re.sub(\"(@[A-Za-z0-9]+)|([^0-9A-Za-z])|(\\w+:\\\n",
    "    S+)\", \" \", tweet).split())\n",
    "    \n",
    "    \n",
    "    # Use textblob's sentiment method to classify sentiment of tweet\n",
    "    def tweet_sentiment(oauth, tweet):\n",
    "        # create TextBlob object of tweet text\n",
    "        analysis = TextBlob(oauth.revised_tweet(tweet))\n",
    "        # set sentiment\n",
    "        if analysis.sentiment.polarity > 0:\n",
    "            return 'positive words'\n",
    "        elif analysis.sentiment.polarity == 0:\n",
    "            return 'stopwords'\n",
    "        else:\n",
    "            return 'negative words'\n",
    "    \n",
    "    # Set up a null list and append 500 Twitter in 5 pages\n",
    "    def get_raw_tweets(searchstr):\n",
    "        resultpage = []\n",
    "        for i in (1,5):\n",
    "            searchresult = api.GetSearch(searchstr, per_page=100, page=i)\n",
    "            resultpage.append(searchresult)\n",
    "        return resultpage\n",
    "    \n",
    "    # Apply search api\n",
    "    def get_tweets(query, count = 10):\n",
    "        # Initiate the connection to Twitter REST API\n",
    "        twitter = Twitter(auth=oauth)\n",
    "        # Search for latest tweets about \"query topic\"\n",
    "        tweets= twitter.search.resultpage(q=query)\n",
    "        \n",
    "        try:\n",
    "            \n",
    "            for tweet in tweets:\n",
    "                # Set up the dict of text and sentiment\n",
    "                new_tweet = {}\n",
    "                # saving key as 'text' of tweet\n",
    "                new_tweet['text'] = tweet.text\n",
    "                # saving key asy 'sentiment' of tweet\n",
    "                new_tweet['sentiment'] = tweet_sentiment(tweet.text)\n",
    "\n",
    "                # appending tweet to tweets list\n",
    "\n",
    "                if tweet.retweet_count > 0:\n",
    "                    # if tweet has retweets, ensure that it is appended only once\n",
    "                    if new_tweet not in tweets:\n",
    "                        tweets.append(new_tweet)\n",
    "                else:\n",
    "                    tweets.append(new_tweet)\n",
    "\n",
    "              # return parsed tweets \n",
    "            return new_tweet\n",
    "            \n",
    "        except twitter.TwitterError as e:\n",
    "                # print error (if any)\n",
    "                print(\"Error : \" + str(e))\n",
    "\n",
    "         \n",
    "\n",
    "def main():\n",
    "    # creating object c1 of TwitterClient Class\n",
    "    c1 = TwitterConsumer()\n",
    "    # Get tweets about the past CES event\n",
    "    tweets = c1.get_tweets('#CES', 500)\n",
    "    \n",
    "    # Find positive tweets from tweets\n",
    "    ptweets = [tweet for tweet in tweets if tweet['sentiment'] == 'positive']\n",
    "    # percentage of positive tweets\n",
    "    print(\"Positive tweets ratio: {} %\".format(100*len(ptweets)/len(tweets)))\n",
    "    # Find negative tweets from tweets\n",
    "    ntweets = [tweet for tweet in tweets if tweet['sentiment'] == 'negative']\n",
    "    # percentage of negative tweets\n",
    "    print(\"Negative tweets ratio: {} %\".format(100*len(ntweets)/len(tweets)))\n",
    "    # Find stopwords from tweets\n",
    "    ntweets = [tweet for tweet in tweets if tweet['sentiment'] == 'neutral']\n",
    "    \n",
    "    \n",
    "if __name__ == \"__main__\":\n",
    "    # calling main function\n",
    "    main()"
   ]
  }
 ],
 "metadata": {
  "kernelspec": {
   "display_name": "Python 3",
   "language": "python",
   "name": "python3"
  },
  "language_info": {
   "codemirror_mode": {
    "name": "ipython",
    "version": 3
   },
   "file_extension": ".py",
   "mimetype": "text/x-python",
   "name": "python",
   "nbconvert_exporter": "python",
   "pygments_lexer": "ipython3",
   "version": "3.6.3"
  },
  "toc": {
   "nav_menu": {},
   "number_sections": true,
   "sideBar": true,
   "skip_h1_title": false,
   "toc_cell": false,
   "toc_position": {},
   "toc_section_display": "block",
   "toc_window_display": false
  },
  "varInspector": {
   "cols": {
    "lenName": 16,
    "lenType": 16,
    "lenVar": 40
   },
   "kernels_config": {
    "python": {
     "delete_cmd_postfix": "",
     "delete_cmd_prefix": "del ",
     "library": "var_list.py",
     "varRefreshCmd": "print(var_dic_list())"
    },
    "r": {
     "delete_cmd_postfix": ") ",
     "delete_cmd_prefix": "rm(",
     "library": "var_list.r",
     "varRefreshCmd": "cat(var_dic_list()) "
    }
   },
   "types_to_exclude": [
    "module",
    "function",
    "builtin_function_or_method",
    "instance",
    "_Feature"
   ],
   "window_display": false
  }
 },
 "nbformat": 4,
 "nbformat_minor": 2
}
