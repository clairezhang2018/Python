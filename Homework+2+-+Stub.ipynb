{
 "cells": [
  {
   "cell_type": "markdown",
   "metadata": {
    "ExecuteTime": {
     "end_time": "2018-01-09T22:16:12.534253Z",
     "start_time": "2018-01-09T22:16:12.530354Z"
    }
   },
   "source": [
    "# Homework 2: Simple Stock Analysis"
   ]
  },
  {
   "cell_type": "markdown",
   "metadata": {},
   "source": [
    "The objective of this homework is to practice working with **Pandas Series**. To successfully complete this homework, you may use any resources available to you."
   ]
  },
  {
   "cell_type": "markdown",
   "metadata": {
    "ExecuteTime": {
     "end_time": "2018-01-09T22:43:29.993598Z",
     "start_time": "2018-01-09T22:43:29.974919Z"
    }
   },
   "source": [
    "You need to accomplish the following tasks:\n",
    "1. Download the Apple stock data for the timeframe of 1982 to today.\n",
    "1. Use the %magic command to activate inline matplotlib graphs\n",
    "2. Provide an overview of the `Close` series of the Apple stock.\n",
    "3. Identify three approaches of obtaining the maximum closing price. What is the difference between the approaches?\n",
    "3. Find the timeframes with the highest stock price surge in five days. Can you explain why these five dates?\n",
    "4. Resample the `Close` series to represent business quarters with a financial year that ends in September.\n",
    "3. Identify series of four quarters with the an overall surge in the stock prices that is larger than 100 percent. Can you explain why the larges surge happened? Visualize it.\n",
    "\n",
    "If you use tutorials/code snippets that you find on the internet to complete this task, make sure that you reference them. Also make sure that the Jupyter notebook is free of mistakes, well-documented, and professionally formatted before you submit it.\n",
    "\n",
    "This homework is due on **Tuesday, 23 2018**.\n",
    "\n",
    "*This homework is based on an assignment created by Michele Samorani.*"
   ]
  },
  {
   "cell_type": "markdown",
   "metadata": {},
   "source": [
    "Lets' make sure that we allow multiple outputs."
   ]
  },
  {
   "cell_type": "code",
   "execution_count": 195,
   "metadata": {
    "collapsed": true
   },
   "outputs": [],
   "source": [
    "from IPython.core.interactiveshell import InteractiveShell\n",
    "InteractiveShell.ast_node_interactivity = \"all\""
   ]
  },
  {
   "cell_type": "markdown",
   "metadata": {},
   "source": [
    "Install the [pandas-datareader package](https://pandas-datareader.readthedocs.io/en/latest/). This package allows you to obtain stock information."
   ]
  },
  {
   "cell_type": "code",
   "execution_count": 196,
   "metadata": {
    "collapsed": true
   },
   "outputs": [],
   "source": [
    "# I use $ pip install pandas-datareader to install pandas-datareader package\n",
    "import pandas as pd # Import pandas class\n",
    "import datetime # Import datetime module\n",
    "import pandas_datareader as pdr # Import datareader from pandas"
   ]
  },
  {
   "cell_type": "markdown",
   "metadata": {},
   "source": [
    "* Write a function that has the ticker symbol and the start/enddate as input and that returns a dataframe with the stock information.\n",
    "* Use the function to get the stock information for Apple from 1982 to today."
   ]
  },
  {
   "cell_type": "code",
   "execution_count": 214,
   "metadata": {},
   "outputs": [
    {
     "name": "stdout",
     "output_type": "stream",
     "text": [
      "                  Open        High         Low       Close   Adj Close  \\\n",
      "Date                                                                     \n",
      "1982-01-04    0.395089    0.395089    0.392857    0.392857    0.321458   \n",
      "1982-01-05    0.377232    0.377232    0.372768    0.372768    0.305020   \n",
      "1982-01-06    0.370536    0.370536    0.368304    0.368304    0.301367   \n",
      "1982-01-07    0.343750    0.343750    0.339286    0.339286    0.277623   \n",
      "1982-01-08    0.354911    0.357143    0.354911    0.354911    0.290408   \n",
      "1982-01-11    0.334821    0.334821    0.332589    0.332589    0.272143   \n",
      "1982-01-12    0.323661    0.323661    0.321429    0.321429    0.263011   \n",
      "1982-01-13    0.321429    0.321429    0.319196    0.319196    0.261185   \n",
      "1982-01-14    0.334821    0.337054    0.334821    0.334821    0.273970   \n",
      "1982-01-15    0.357143    0.361607    0.357143    0.357143    0.292234   \n",
      "1982-01-18    0.363839    0.368304    0.363839    0.363839    0.297714   \n",
      "1982-01-19    0.359375    0.359375    0.354911    0.354911    0.290408   \n",
      "1982-01-20    0.361607    0.363839    0.361607    0.361607    0.295887   \n",
      "1982-01-21    0.368304    0.370536    0.368304    0.368304    0.301367   \n",
      "1982-01-22    0.370536    0.372768    0.370536    0.370536    0.303193   \n",
      "1982-01-25    0.361607    0.361607    0.359375    0.359375    0.294061   \n",
      "1982-01-26    0.350446    0.350446    0.345982    0.345982    0.283102   \n",
      "1982-01-27    0.348214    0.352679    0.348214    0.348214    0.284929   \n",
      "1982-01-28    0.359375    0.361607    0.359375    0.359375    0.294061   \n",
      "1982-01-29    0.363839    0.366071    0.363839    0.363839    0.297714   \n",
      "1982-02-01    0.363839    0.363839    0.359375    0.359375    0.294061   \n",
      "1982-02-02    0.361607    0.366071    0.361607    0.361607    0.295887   \n",
      "1982-02-03    0.361607    0.363839    0.361607    0.361607    0.295887   \n",
      "1982-02-04    0.354911    0.354911    0.352679    0.352679    0.288581   \n",
      "1982-02-05    0.352679    0.354911    0.352679    0.352679    0.288581   \n",
      "1982-02-08    0.332589    0.332589    0.330357    0.330357    0.270317   \n",
      "1982-02-09    0.330357    0.332589    0.330357    0.330357    0.270317   \n",
      "1982-02-10    0.334821    0.337054    0.334821    0.334821    0.273970   \n",
      "1982-02-11    0.332589    0.332589    0.330357    0.330357    0.270317   \n",
      "1982-02-12    0.334821    0.337054    0.334821    0.334821    0.273970   \n",
      "...                ...         ...         ...         ...         ...   \n",
      "2017-12-08  170.490005  171.000000  168.820007  169.369995  169.369995   \n",
      "2017-12-11  169.199997  172.889999  168.789993  172.669998  172.669998   \n",
      "2017-12-12  172.149994  172.389999  171.460007  171.699997  171.699997   \n",
      "2017-12-13  172.500000  173.539993  172.000000  172.270004  172.270004   \n",
      "2017-12-14  172.399994  173.130005  171.649994  172.220001  172.220001   \n",
      "2017-12-15  173.630005  174.169998  172.460007  173.970001  173.970001   \n",
      "2017-12-18  174.880005  177.199997  174.860001  176.419998  176.419998   \n",
      "2017-12-19  175.029999  175.389999  174.089996  174.539993  174.539993   \n",
      "2017-12-20  174.869995  175.419998  173.250000  174.350006  174.350006   \n",
      "2017-12-21  174.169998  176.020004  174.100006  175.009995  175.009995   \n",
      "2017-12-22  174.679993  175.419998  174.500000  175.009995  175.009995   \n",
      "2017-12-26  170.800003  171.470001  169.679993  170.570007  170.570007   \n",
      "2017-12-27  170.100006  170.779999  169.710007  170.600006  170.600006   \n",
      "2017-12-28  171.000000  171.850006  170.479996  171.080002  171.080002   \n",
      "2017-12-29  170.520004  170.589996  169.220001  169.229996  169.229996   \n",
      "2018-01-02  170.160004  172.300003  169.259995  172.259995  172.259995   \n",
      "2018-01-03  172.529999  174.550003  171.960007  172.229996  172.229996   \n",
      "2018-01-04  172.539993  173.470001  172.080002  173.029999  173.029999   \n",
      "2018-01-05  173.440002  175.369995  173.050003  175.000000  175.000000   \n",
      "2018-01-08  174.350006  175.610001  173.929993  174.350006  174.350006   \n",
      "2018-01-09  174.550003  175.059998  173.410004  174.330002  174.330002   \n",
      "2018-01-10  173.160004  174.300003  173.000000  174.289993  174.289993   \n",
      "2018-01-11  174.589996  175.490005  174.490005  175.279999  175.279999   \n",
      "2018-01-12  176.179993  177.360001  175.649994  177.089996  177.089996   \n",
      "2018-01-16  177.899994  179.389999  176.139999  176.190002  176.190002   \n",
      "2018-01-17  176.149994  179.250000  175.070007  179.100006  179.100006   \n",
      "2018-01-18  179.369995  180.100006  178.250000  179.259995  179.259995   \n",
      "2018-01-19  178.610001  179.580002  177.410004  178.460007  178.460007   \n",
      "2018-01-22  177.300003  177.779999  176.600006  177.000000  177.000000   \n",
      "2018-01-23  177.300003  179.440002  176.820007  177.039993  177.039993   \n",
      "\n",
      "              Volume  \n",
      "Date                  \n",
      "1982-01-04  17813600  \n",
      "1982-01-05   8960000  \n",
      "1982-01-06  16520000  \n",
      "1982-01-07  17511200  \n",
      "1982-01-08  14151200  \n",
      "1982-01-11   8332800  \n",
      "1982-01-12  14980000  \n",
      "1982-01-13  10438400  \n",
      "1982-01-14   6428800  \n",
      "1982-01-15  11676000  \n",
      "1982-01-18   7000000  \n",
      "1982-01-19  13876800  \n",
      "1982-01-20   6456800  \n",
      "1982-01-21   8332800  \n",
      "1982-01-22   6064800  \n",
      "1982-01-25  11177600  \n",
      "1982-01-26   5303200  \n",
      "1982-01-27   7840000  \n",
      "1982-01-28   9900800  \n",
      "1982-01-29  13288800  \n",
      "1982-02-01   9632000  \n",
      "1982-02-02  13568800  \n",
      "1982-02-03   7868000  \n",
      "1982-02-04   5510400  \n",
      "1982-02-05  10074400  \n",
      "1982-02-08   7924000  \n",
      "1982-02-09  14476000  \n",
      "1982-02-10   9699200  \n",
      "1982-02-11   6132000  \n",
      "1982-02-12   4911200  \n",
      "...              ...  \n",
      "2017-12-08  23355200  \n",
      "2017-12-11  35273800  \n",
      "2017-12-12  19409200  \n",
      "2017-12-13  23818400  \n",
      "2017-12-14  20476500  \n",
      "2017-12-15  40169300  \n",
      "2017-12-18  29421100  \n",
      "2017-12-19  27436400  \n",
      "2017-12-20  23475600  \n",
      "2017-12-21  20949900  \n",
      "2017-12-22  16349400  \n",
      "2017-12-26  33185500  \n",
      "2017-12-27  21498200  \n",
      "2017-12-28  16480200  \n",
      "2017-12-29  25999900  \n",
      "2018-01-02  25555900  \n",
      "2018-01-03  29517900  \n",
      "2018-01-04  22434600  \n",
      "2018-01-05  23660000  \n",
      "2018-01-08  20567800  \n",
      "2018-01-09  21584000  \n",
      "2018-01-10  23959900  \n",
      "2018-01-11  18667700  \n",
      "2018-01-12  25418100  \n",
      "2018-01-16  29565900  \n",
      "2018-01-17  34386800  \n",
      "2018-01-18  31193400  \n",
      "2018-01-19  32425100  \n",
      "2018-01-22  26599800  \n",
      "2018-01-23  29331586  \n",
      "\n",
      "[9093 rows x 6 columns]\n"
     ]
    }
   ],
   "source": [
    "def get_stock_info(symbol_tricker, start_date, end_date):\n",
    "    return pdr.get_data_yahoo(symbol_tricker, start_date, end_date)\n",
    "    \n",
    "start = datetime.datetime(1982,1,1)\n",
    "end = datetime.date.today()\n",
    "st='AAPL'\n",
    "Apple = get_stock_info(st, start, end)\n",
    "print (Apple)"
   ]
  },
  {
   "cell_type": "markdown",
   "metadata": {
    "ExecuteTime": {
     "end_time": "2018-01-17T02:59:18.307999Z",
     "start_time": "2018-01-17T02:59:18.295456Z"
    }
   },
   "source": [
    "Use the %magic command to activate inline matplotlib graphs and plot the `Close` series."
   ]
  },
  {
   "cell_type": "code",
   "execution_count": 198,
   "metadata": {},
   "outputs": [
    {
     "name": "stdout",
     "output_type": "stream",
     "text": [
      "Populating the interactive namespace from numpy and matplotlib\n"
     ]
    },
    {
     "data": {
      "text/plain": [
       "[<matplotlib.lines.Line2D at 0x18144227048>]"
      ]
     },
     "execution_count": 198,
     "metadata": {},
     "output_type": "execute_result"
    },
    {
     "data": {
      "image/png": "iVBORw0KGgoAAAANSUhEUgAAA3EAAAIMCAYAAABbvyXnAAAABHNCSVQICAgIfAhkiAAAAAlwSFlz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\n",
      "text/plain": [
       "<matplotlib.figure.Figure at 0x18143497ef0>"
      ]
     },
     "metadata": {},
     "output_type": "display_data"
    }
   ],
   "source": [
    "import matplotlib.pyplot as plt   # Import matplotlib\n",
    "%matplotlib inline\n",
    "\n",
    "# Control the default size of figures in this Jupyter notebook\n",
    "# Reference link: https://ntguardian.wordpress.com/2016/09/19/introduction-stock-market-data-python-1/\n",
    "%pylab inline\n",
    "pylab.rcParams['figure.figsize'] = (15, 9) # Change the size of plots\n",
    "\n",
    "# Plot the closing price of AAPL\n",
    "plt.plot(Apple['Close'])"
   ]
  },
  {
   "cell_type": "markdown",
   "metadata": {},
   "source": [
    "Provide an overview of the Close series of the Apple stock."
   ]
  },
  {
   "cell_type": "code",
   "execution_count": 199,
   "metadata": {
    "scrolled": false
   },
   "outputs": [
    {
     "data": {
      "text/plain": [
       "count    9093.000000\n",
       "mean       22.799795\n",
       "std        39.759379\n",
       "min         0.196429\n",
       "25%         1.092857\n",
       "50%         1.669643\n",
       "75%        23.587143\n",
       "max       179.259995\n",
       "Name: Close, dtype: float64"
      ]
     },
     "execution_count": 199,
     "metadata": {},
     "output_type": "execute_result"
    }
   ],
   "source": [
    "Apple['Close'].describe()"
   ]
  },
  {
   "cell_type": "markdown",
   "metadata": {},
   "source": [
    "Identify three approaches of obtaining the maximum closing price. What is the difference between the approaches?"
   ]
  },
  {
   "cell_type": "code",
   "execution_count": 55,
   "metadata": {},
   "outputs": [
    {
     "data": {
      "text/plain": [
       "179.259995"
      ]
     },
     "execution_count": 55,
     "metadata": {},
     "output_type": "execute_result"
    }
   ],
   "source": [
    "# Approach 1\n",
    "Apple['Close'].max()\n",
    "\n",
    "# This approach is to use the max() function which is fast and doesn't do any change to original data"
   ]
  },
  {
   "cell_type": "code",
   "execution_count": 56,
   "metadata": {},
   "outputs": [
    {
     "data": {
      "text/plain": [
       "179.259995"
      ]
     },
     "execution_count": 56,
     "metadata": {},
     "output_type": "execute_result"
    }
   ],
   "source": [
    "# Approach 2\n",
    "def max_num(i):\n",
    "    max=i[0]\n",
    "    for item in i:\n",
    "        if item>=max:\n",
    "            max=item\n",
    "    return max\n",
    "\n",
    "max_num(Apple['Close'])\n",
    "\n",
    "# This approach is to define the max() function which is bit complex and it doesn't change original data as well"
   ]
  },
  {
   "cell_type": "code",
   "execution_count": 82,
   "metadata": {},
   "outputs": [
    {
     "name": "stdout",
     "output_type": "stream",
     "text": [
      "179.259995\n"
     ]
    }
   ],
   "source": [
    "# Approach 3\n",
    "Applec=Apple.copy()\n",
    "reapple=Applec['Close'].sort_values(ascending=False)\n",
    "print(reapple[0])\n",
    "\n",
    "# The 3rd approach is to use sort_values function which will change original data, so i gave it a copy first and work on the copy"
   ]
  },
  {
   "cell_type": "markdown",
   "metadata": {},
   "source": [
    "Find the five timeframes with the highest stock price surge in five days (in % compared to the closing cost of the previous trading day). Do you notice something? Can you explain what happend during the timeframes?"
   ]
  },
  {
   "cell_type": "code",
   "execution_count": 243,
   "metadata": {
    "scrolled": true
   },
   "outputs": [
    {
     "name": "stdout",
     "output_type": "stream",
     "text": [
      "Date\n",
      "1982-01-04         NaN\n",
      "1982-01-05         NaN\n",
      "1982-01-06         NaN\n",
      "1982-01-07         NaN\n",
      "1982-01-08   -0.096591\n",
      "1982-01-11   -0.107786\n",
      "1982-01-12   -0.127273\n",
      "1982-01-13   -0.059210\n",
      "1982-01-14   -0.056603\n",
      "1982-01-15    0.073825\n",
      "1982-01-18    0.131945\n",
      "1982-01-19    0.111886\n",
      "1982-01-20    0.079998\n",
      "1982-01-21    0.031252\n",
      "1982-01-22    0.018404\n",
      "1982-01-25    0.012579\n",
      "1982-01-26   -0.043209\n",
      "1982-01-27   -0.054545\n",
      "1982-01-28   -0.030119\n",
      "1982-01-29    0.012423\n",
      "1982-02-01    0.038710\n",
      "1982-02-02    0.038459\n",
      "1982-02-03    0.006210\n",
      "1982-02-04   -0.030677\n",
      "1982-02-05   -0.018636\n",
      "1982-02-08   -0.086418\n",
      "1982-02-09   -0.086418\n",
      "1982-02-10   -0.050630\n",
      "1982-02-11   -0.063289\n",
      "1982-02-12    0.013514\n",
      "                ...   \n",
      "2017-12-07   -0.010114\n",
      "2017-12-08   -0.002532\n",
      "2017-12-11    0.017861\n",
      "2017-12-12    0.015916\n",
      "2017-12-13    0.017423\n",
      "2017-12-14    0.016827\n",
      "2017-12-15    0.007529\n",
      "2017-12-18    0.027490\n",
      "2017-12-19    0.013177\n",
      "2017-12-20    0.012368\n",
      "2017-12-21    0.005978\n",
      "2017-12-22   -0.007992\n",
      "2017-12-26   -0.022745\n",
      "2017-12-27   -0.021508\n",
      "2017-12-28   -0.022456\n",
      "2017-12-29   -0.033027\n",
      "2018-01-02    0.009908\n",
      "2018-01-03    0.009554\n",
      "2018-01-04    0.011398\n",
      "2018-01-05    0.034096\n",
      "2018-01-08    0.012133\n",
      "2018-01-09    0.012193\n",
      "2018-01-10    0.007282\n",
      "2018-01-11    0.001600\n",
      "2018-01-12    0.015715\n",
      "2018-01-16    0.010669\n",
      "2018-01-17    0.027598\n",
      "2018-01-18    0.022707\n",
      "2018-01-19    0.007736\n",
      "2018-01-22    0.004597\n",
      "Name: Adj Close, Length: 9092, dtype: float64\n",
      "Date\n",
      "1997-08-07    0.521173\n",
      "Name: Adj Close, dtype: float64\n"
     ]
    }
   ],
   "source": [
    "aapl=Applec['Adj Close'] # Slice copy of Apple's data\n",
    "price_surge=aapl.pct_change(4) # Use pct_change() to calculate every 5-day percentage change\n",
    "print(price_surge)\n",
    "\n",
    "highest_price_surge=price_surge.nlargest(1) # Find the highest pct_change which is the highest stock price surge\n",
    "print(highest_price_surge)\n",
    "\n",
    "# The timeframes is divided into 5-day unit and has the mean value as the unit value during process"
   ]
  },
  {
   "cell_type": "markdown",
   "metadata": {},
   "source": [
    "Resample the Close series to represent business quarters with a financial year that ends in September."
   ]
  },
  {
   "cell_type": "code",
   "execution_count": 242,
   "metadata": {
    "scrolled": true
   },
   "outputs": [
    {
     "name": "stdout",
     "output_type": "stream",
     "text": [
      "Date\n",
      "1981-12-01      0.346326\n",
      "1982-03-01      0.284842\n",
      "1982-06-01      0.241690\n",
      "1982-09-01      0.426339\n",
      "1982-12-01      0.644837\n",
      "1983-03-01      0.854632\n",
      "1983-06-01      0.786951\n",
      "1983-09-01      0.429209\n",
      "1983-12-01      0.449633\n",
      "1984-03-01      0.499686\n",
      "1984-06-01      0.490247\n",
      "1984-09-03      0.449688\n",
      "1984-12-03      0.502452\n",
      "1985-03-01      0.379499\n",
      "1985-06-03      0.289690\n",
      "1985-09-02      0.310412\n",
      "1985-12-02      0.407438\n",
      "1986-03-03      0.536175\n",
      "1986-06-02      0.624442\n",
      "1986-09-01      0.619898\n",
      "1986-12-01      0.890517\n",
      "1987-03-02      1.283836\n",
      "1987-06-01      1.548626\n",
      "1987-09-01      1.619898\n",
      "1987-12-01      1.433468\n",
      "1988-03-01      1.488979\n",
      "1988-06-01      1.561607\n",
      "1988-09-01      1.417234\n",
      "1988-12-01      1.413788\n",
      "1989-03-01      1.401855\n",
      "                 ...    \n",
      "2010-09-01     42.208254\n",
      "2010-12-01     48.039251\n",
      "2011-03-01     49.058214\n",
      "2011-06-01     51.415582\n",
      "2011-09-01     55.930408\n",
      "2011-12-01     62.703794\n",
      "2012-03-01     83.142946\n",
      "2012-06-01     86.747802\n",
      "2012-09-03     89.297565\n",
      "2012-12-03     70.892238\n",
      "2013-03-01     62.262522\n",
      "2013-06-03     63.881205\n",
      "2013-09-02     71.893764\n",
      "2013-12-02     77.386862\n",
      "2014-03-03     79.880204\n",
      "2014-06-02     95.320848\n",
      "2014-09-01    104.810000\n",
      "2014-12-01    115.886722\n",
      "2015-03-02    127.296983\n",
      "2015-06-01    122.314154\n",
      "2015-09-01    114.697143\n",
      "2015-12-01    102.345409\n",
      "2016-03-01    102.029219\n",
      "2016-06-01    101.124923\n",
      "2016-09-01    112.239524\n",
      "2016-12-01    122.217000\n",
      "2017-03-01    145.282343\n",
      "2017-06-01    151.934923\n",
      "2017-09-01    162.613968\n",
      "2017-12-01    173.402941\n",
      "Freq: BQS-SEP, Name: Close, Length: 145, dtype: float64\n"
     ]
    }
   ],
   "source": [
    "by_quarter = Applec['Close'].resample('BQS-sep').mean()\n",
    "print(by_quarter)"
   ]
  },
  {
   "cell_type": "markdown",
   "metadata": {
    "ExecuteTime": {
     "end_time": "2018-01-17T03:02:56.165199Z",
     "start_time": "2018-01-17T03:02:56.147414Z"
    }
   },
   "source": [
    "Identify series of four quarters with the an overall surge in the stock prices that is larger than 100 percent. \n",
    "Can you explain why the largest surge happened?."
   ]
  },
  {
   "cell_type": "code",
   "execution_count": 234,
   "metadata": {},
   "outputs": [
    {
     "name": "stdout",
     "output_type": "stream",
     "text": [
      "Date\n",
      "1982-09-01    0.763996\n",
      "Freq: BQS-SEP, Name: Close, dtype: float64\n"
     ]
    }
   ],
   "source": [
    "quarters=by_quarter.pct_change(4)\n",
    "print (quarters.nlargest(4))\n",
    "\n",
  
   ]
  },
  {
   "cell_type": "markdown",
   "metadata": {},
   "source": [
    "Visualize the stock price for the quarters with the highest price surge."
   ]
  },
  {
   "cell_type": "code",
   "execution_count": 241,
   "metadata": {},
   "outputs": [
    {
     "name": "stdout",
     "output_type": "stream",
     "text": [
      "Populating the interactive namespace from numpy and matplotlib\n"
     ]
    },
    {
     "data": {
      "text/plain": [
       "[<matplotlib.lines.Line2D at 0x181448e2fd0>]"
      ]
     },
     "execution_count": 241,
     "metadata": {},
     "output_type": "execute_result"
    },
    {
     "data": {
      "image/png": "iVBORw0KGgoAAAANSUhEUgAAA3YAAAIMCAYAAAC5Yz6eAAAABHNCSVQICAgIfAhkiAAAAAlwSFlz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\n",
      "text/plain": [
       "<matplotlib.figure.Figure at 0x18144952390>"
      ]
     },
     "metadata": {},
     "output_type": "display_data"
    }
   ],
   "source": [
    "import matplotlib.pyplot as plt   # Import matplotlib\n",
    "%matplotlib inline\n",
    "\n",
    "# Control the default size of figures in this Jupyter notebook\n",
    "# Reference link: https://ntguardian.wordpress.com/2016/09/19/introduction-stock-market-data-python-1/\n",
    "%pylab inline\n",
    "pylab.rcParams['figure.figsize'] = (15, 9) # Change the size of plots\n",
    "\n",
    "# Plot the closing price of AAPL based on last question\n",
    "plt.plot(quarters.nlargest(4))"
   ]
  },
  {
   "cell_type": "code",
   "execution_count": null,
   "metadata": {
    "collapsed": true
   },
   "outputs": [],
   "source": []
  }
 ],
 "metadata": {
  "kernelspec": {
   "display_name": "Python 3",
   "language": "python",
   "name": "python3"
  },
  "language_info": {
   "codemirror_mode": {
    "name": "ipython",
    "version": 3
   },
   "file_extension": ".py",
   "mimetype": "text/x-python",
   "name": "python",
   "nbconvert_exporter": "python",
   "pygments_lexer": "ipython3",
   "version": "3.6.3"
  },
  "toc": {
   "nav_menu": {},
   "number_sections": true,
   "sideBar": true,
   "skip_h1_title": false,
   "toc_cell": false,
   "toc_position": {},
   "toc_section_display": "block",
   "toc_window_display": false
  },
  "varInspector": {
   "cols": {
    "lenName": 16,
    "lenType": 16,
    "lenVar": 40
   },
   "kernels_config": {
    "python": {
     "delete_cmd_postfix": "",
     "delete_cmd_prefix": "del ",
     "library": "var_list.py",
     "varRefreshCmd": "print(var_dic_list())"
    },
    "r": {
     "delete_cmd_postfix": ") ",
     "delete_cmd_prefix": "rm(",
     "library": "var_list.r",
     "varRefreshCmd": "cat(var_dic_list()) "
    }
   },
   "types_to_exclude": [
    "module",
    "function",
    "builtin_function_or_method",
    "instance",
    "_Feature"
   ],
   "window_display": false
  }
 },
 "nbformat": 4,
 "nbformat_minor": 2
}
