{
 "cells": [
  {
   "cell_type": "markdown",
   "metadata": {
    "ExecuteTime": {
     "end_time": "2018-01-23T04:31:51.255588Z",
     "start_time": "2018-01-23T04:31:51.252836Z"
    }
   },
   "source": [
    "# Homework 3 - Immigration, the stock market, and GDP"
   ]
  },
  {
   "cell_type": "markdown",
   "metadata": {},
   "source": [
    "The objective of this homework is to practice working with Pandas Dataframes. To successfully complete this homework, you may use any resources available to you. \n",
    "\n",
    "Answer the following question: What has a higher correlation with the GDP in the US: stock market returns or immigration?\n",
    "\n",
    "You need to accomplish the following tasks:\n",
    "1. Install the [wbdata](http://wbdata.readthedocs.io/en/latest/) package for API access to Worldbank data.\n",
    "2. Explore the databases `Population estimates and projections`, `Global Financial Development`, and `World Development Indicators`.\n",
    "3. Get the data on `GDP per capita growth (annual %)` as a dataframe.\n",
    "4. Get the data on `Net immigration` as a dataframe (Make sure that you also have a percentage value for this). \n",
    "5. Get the data on `Stock market return (%, year-on-year)` as a dataframe.\n",
    "5. Explore the data and note the issues. \n",
    "5. Clean and combine the data.\n",
    "6. What is the correlation between the GDP and net immigration and stock market returns. "
   ]
  },
  {
   "cell_type": "code",
   "execution_count": 2,
   "metadata": {
    "ExecuteTime": {
     "end_time": "2018-01-23T22:19:47.415963Z",
     "start_time": "2018-01-23T22:19:47.409878Z"
    },
    "collapsed": true
   },
   "outputs": [],
   "source": [
    "from IPython.core.interactiveshell import InteractiveShell\n",
    "InteractiveShell.ast_node_interactivity = \"all\""
   ]
  },
  {
   "cell_type": "markdown",
   "metadata": {},
   "source": [
    "1. Install the wbdata package for API access to Worldbank data"
   ]
  },
  {
   "cell_type": "code",
   "execution_count": null,
   "metadata": {
    "collapsed": true
   },
   "outputs": [],
   "source": [
    "pip install wbdata"
   ]
  },
  {
   "cell_type": "markdown",
   "metadata": {},
   "source": [
    "2. Explore the databases Population estimates and projections, Global Financial Development, and World Development Indicators"
   ]
  },
  {
   "cell_type": "code",
   "execution_count": null,
   "metadata": {
    "collapsed": true
   },
   "outputs": [],
   "source": [
    "import wbdata\n",
    "import pandas as pd\n",
    "wbdata.get_source()"
   ]
  },
  {
   "cell_type": "code",
   "execution_count": null,
   "metadata": {
    "collapsed": true
   },
   "outputs": [],
   "source": [
    "wbdata.get_indicator(source=40) # databases of Population estimates and projections"
   ]
  },
  {
   "cell_type": "code",
   "execution_count": null,
   "metadata": {
    "collapsed": true
   },
   "outputs": [],
   "source": [
    "wbdata.get_indicator(source=32) # database of Global Financial Development"
   ]
  },
  {
   "cell_type": "code",
   "execution_count": null,
   "metadata": {
    "collapsed": true
   },
   "outputs": [],
   "source": [
    "wbdata.get_indicator(source=2) # database of World Development Indicators"
   ]
  },
  {
   "cell_type": "markdown",
   "metadata": {},
   "source": [
    "3. Get the data on GDP per capita growth (annual %) as a dataframe"
   ]
  },
  {
   "cell_type": "code",
   "execution_count": null,
   "metadata": {
    "collapsed": true
   },
   "outputs": [],
   "source": [
    "wbdata.search_indicators(\"GDP per capita growth\") # Search the ID for GDP per capita growth (annual %)\n",
    "wbdata.search_countries(\"united\") # Search the ID for USA"
   ]
  },
  {
   "cell_type": "code",
   "execution_count": null,
   "metadata": {
    "collapsed": true
   },
   "outputs": [],
   "source": [
    "indicators = {'NY.GDP.PCAP.KD.ZG':''}\n",
    "countries = ['USA']\n",
    "\n",
    "#grab indicators above for USA and load into data frame\n",
    "GDP= wbdata.get_dataframe(indicators, countries, data_date=None, convert_date=False, keep_levels=False)\n",
    "GDP"
   ]
  },
  {
   "cell_type": "markdown",
   "metadata": {},
   "source": [
    "4. Get the data on Net immigration as a dataframe (Make sure that you also have a percentage value for this)"
   ]
  },
  {
   "cell_type": "code",
   "execution_count": null,
   "metadata": {
    "collapsed": true
   },
   "outputs": [],
   "source": [
    "wbdata.search_indicators('net migration') # Search the ID for net migration"
   ]
  },
  {
   "cell_type": "code",
   "execution_count": null,
   "metadata": {
    "collapsed": true
   },
   "outputs": [],
   "source": [
    "indicators2 = {'SP.POP.TOTL':''} # Indicator of total population\n",
    "indicators1 = {'SM.POP.NETM':''} # Indicator of net immigration\n",
    "countries = ['USA']\n",
    "# Get net Immigration in dataframe\n",
    "NI= wbdata.get_dataframe(indicators1, countries, data_date=None, convert_date=False, keep_levels=False)\n",
    "\n",
    "# Get total population in dataframe\n",
    "TP= wbdata.get_dataframe(indicators2, countries, data_date=None, convert_date=False, keep_levels=False)\n",
    "\n",
    "# Get a jointed dataframe of NI & TP\n",
    "R=NI.join(TP, lsuffix='Net Immigration', rsuffix='Total Population')\n",
    "\n",
    "# Get the Percentage value of this\n",
    "R['Ratio']=R['Net Immigration']/R['Total Population']\n",
    "\n",
    "# Format it into percentage value\n",
    "for values in R['Ratio']:\n",
    "    values=round(values * 100, 2)\n",
    "\n",
    "# Delete column 'Total Population' that is useless\n",
    "R.drop(['Total Population'],axis=1)\n"
   ]
  },
  {
   "cell_type": "markdown",
   "metadata": {},
   "source": [
    "5. Get the data on Stock market return (%, year-on-year) as a dataframe"
   ]
  },
  {
   "cell_type": "code",
   "execution_count": null,
   "metadata": {
    "collapsed": true
   },
   "outputs": [],
   "source": [
    "wbdata.search_indicators('Stock market return') # Search the ID for Stock market return"
   ]
  },
  {
   "cell_type": "code",
   "execution_count": null,
   "metadata": {
    "collapsed": true
   },
   "outputs": [],
   "source": [
    "indicators = {'GFDD.OM.02':''}\n",
    "countries = ['USA']\n",
    "#grab indicators above for USA and load into data frame\n",
    "SMR= wbdata.get_dataframe(indicators, countries, data_date=None, convert_date=False, keep_levels=False)\n",
    "SMR"
   ]
  },
  {
   "cell_type": "markdown",
   "metadata": {},
   "source": [
    "6. Explore the data and note the issues"
   ]
  },
  {
   "cell_type": "code",
   "execution_count": null,
   "metadata": {
    "collapsed": true
   },
   "outputs": [],
   "source": [
    "# Combine net immigration, GDP growth and stock market return\n",
    "C=R.join(GDP, lsuffix='Ratio', rsuffix='GDP')\n",
    "C=C.join(SMR, lsuffix='GDP', rsuffix='SMR')\n",
    "\n",
    "\n",
    "# If we observe the data, year 2017 and 1960 have almost all NaN which serve no effect and is ok to drop\n",
    "C=C.drop(['2017'])\n",
    "C=C.drop(['1960']) \n",
    "C=C.drop(['Total Population'],axis=1)\n",
    "C\n",
    "\n",
    "# Check how many nulls in C\n",
    "C.isnull().sum()\n",
    "# After we observe the data we can easily find that there are not all the data for the whole year which can influence correlation result"
   ]
  },
  {
   "cell_type": "markdown",
   "metadata": {},
   "source": [
    "7. Clean and combine the data."
   ]
  },
  {
   "cell_type": "code",
   "execution_count": null,
   "metadata": {
    "collapsed": true
   },
   "outputs": [],
   "source": [
    "# Drop NaN values that will influence the correlation results\n",
    "CF=C.dropna()\n",
    "CF\n",
    "\n",
    "# Test get_dummies() for fun\n",
    "#CD=pd.get_dummies(CF, columns=['SMR'])\n",
    "#CD"
   ]
  },
  {
   "cell_type": "markdown",
   "metadata": {},
   "source": [
    "8. What is the correlation between the GDP and net immigration and stock market returns."
   ]
  },
  {
   "cell_type": "code",
   "execution_count": null,
   "metadata": {
    "collapsed": true
   },
   "outputs": [],
   "source": [
    "# Calculate the correlation between net immigration percentage and stock market returns\n",
    "CF['Ratio'].corr(CF['SMR'])"
   ]
  },
  {
   "cell_type": "code",
   "execution_count": null,
   "metadata": {
    "collapsed": true
   },
   "outputs": [],
   "source": [
    "# Calculate the correlation between GDP and stock market returns\n",
    "CF['GDP'].corr(CF['SMR'])"
   ]
  },
  {
   "cell_type": "code",
   "execution_count": null,
   "metadata": {
    "collapsed": true
   },
   "outputs": [],
   "source": [
    "# Calculate the correlation between GDP and net immigration percentage\n",
    "CF['GDP'].corr(CF['Ratio'])"
   ]
  },
  {
   "cell_type": "code",
   "execution_count": null,
   "metadata": {
    "collapsed": true
   },
   "outputs": [],
   "source": [
    "# From those three data above, Ratio and Stock Market Returns have the highest correlation value around 0.43 which is still less than 1\n",
    "# Based on this, I don't think there is a strong connection between Net Immigraiton percentage, GDP and stock market status"
   ]
  }
 ],
 "metadata": {
  "kernelspec": {
   "display_name": "Python 3",
   "language": "python",
   "name": "python3"
  },
  "language_info": {
   "codemirror_mode": {
    "name": "ipython",
    "version": 3
   },
   "file_extension": ".py",
   "mimetype": "text/x-python",
   "name": "python",
   "nbconvert_exporter": "python",
   "pygments_lexer": "ipython3",
   "version": "3.6.3"
  },
  "toc": {
   "nav_menu": {},
   "number_sections": true,
   "sideBar": true,
   "skip_h1_title": false,
   "toc_cell": false,
   "toc_position": {},
   "toc_section_display": "block",
   "toc_window_display": false
  },
  "varInspector": {
   "cols": {
    "lenName": 16,
    "lenType": 16,
    "lenVar": 40
   },
   "kernels_config": {
    "python": {
     "delete_cmd_postfix": "",
     "delete_cmd_prefix": "del ",
     "library": "var_list.py",
     "varRefreshCmd": "print(var_dic_list())"
    },
    "r": {
     "delete_cmd_postfix": ") ",
     "delete_cmd_prefix": "rm(",
     "library": "var_list.r",
     "varRefreshCmd": "cat(var_dic_list()) "
    }
   },
   "types_to_exclude": [
    "module",
    "function",
    "builtin_function_or_method",
    "instance",
    "_Feature"
   ],
   "window_display": false
  }
 },
 "nbformat": 4,
 "nbformat_minor": 2
}
