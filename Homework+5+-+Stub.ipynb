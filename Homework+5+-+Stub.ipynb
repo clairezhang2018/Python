{
 "cells": [
  {
   "cell_type": "markdown",
   "metadata": {
    "ExecuteTime": {
     "end_time": "2018-01-23T04:31:51.255588Z",
     "start_time": "2018-01-23T04:31:51.252836Z"
    }
   },
   "source": [
    "# Homework 5 - Gender Differences in University Enrollment"
   ]
  },
  {
   "cell_type": "markdown",
   "metadata": {},
   "source": [
    "The objective of this homework is to practice visualizing data. To successfully complete this homework, you may use any resources available to you. \n",
    "\n",
    "Get the `universities.csv` data. This is data from the [National Center for Education Statistics](https://nces.ed.gov/ipeds/datacenter/DataFiles.aspx). Develop **three** plots:"
   ]
  },
  {
   "cell_type": "code",
   "execution_count": 222,
   "metadata": {
    "ExecuteTime": {
     "end_time": "2018-02-13T17:45:19.822310Z",
     "start_time": "2018-02-13T17:45:19.816703Z"
    },
    "collapsed": true
   },
   "outputs": [],
   "source": [
    "from IPython.core.interactiveshell import InteractiveShell\n",
    "InteractiveShell.ast_node_interactivity = \"all\""
   ]
  },
  {
   "cell_type": "code",
   "execution_count": 223,
   "metadata": {
    "ExecuteTime": {
     "end_time": "2018-02-13T17:45:20.792374Z",
     "start_time": "2018-02-13T17:45:20.557515Z"
    },
    "collapsed": true
   },
   "outputs": [],
   "source": [
    "import numpy as np\n",
    "import pandas as pd"
   ]
  },
  {
   "cell_type": "code",
   "execution_count": 224,
   "metadata": {
    "ExecuteTime": {
     "end_time": "2018-02-13T17:45:23.621448Z",
     "start_time": "2018-02-13T17:45:23.424111Z"
    },
    "collapsed": true
   },
   "outputs": [],
   "source": [
    "c = students = pd.read_csv('universities.csv')"
   ]
  },
  {
   "cell_type": "code",
   "execution_count": 225,
   "metadata": {
    "collapsed": true
   },
   "outputs": [],
   "source": [
    "pd.options.display.float_format = '{:.2f}'.format"
   ]
  },
  {
   "cell_type": "code",
   "execution_count": 226,
   "metadata": {
    "ExecuteTime": {
     "end_time": "2018-02-13T17:45:25.590732Z",
     "start_time": "2018-02-13T17:45:25.149151Z"
    },
    "collapsed": true
   },
   "outputs": [],
   "source": [
    "import seaborn as sn\n",
    "%matplotlib inline"
   ]
  },
  {
   "cell_type": "code",
   "execution_count": 227,
   "metadata": {
    "ExecuteTime": {
     "end_time": "2018-02-13T17:46:02.458031Z",
     "start_time": "2018-02-13T17:46:02.452375Z"
    },
    "collapsed": true
   },
   "outputs": [],
   "source": [
    "uswest = ['AK','AZ','CA', 'CO', 'HI', 'ID', 'MT', 'NV', 'NM', 'OR', 'UT', 'WA', 'WY']"
   ]
  },
  {
   "cell_type": "markdown",
   "metadata": {},
   "source": [
    "A boxplot of the average number of total enrollment for the states in the U.S. West\n",
    "    * The States in the U.S. West are\n",
    "        * Alaska\n",
    "        * Arizona\n",
    "        * California\n",
    "        * Colorado\n",
    "        * Hawaii\n",
    "        * Idaho\n",
    "        * Montana\n",
    "        * Nevada\n",
    "        * New Mexico\n",
    "        * Oregon\n",
    "        * Utah\n",
    "        * Washington\n",
    "        * Wyoming (see prepared list `uswest`)\n",
    "    * Order the plot based on the number of institutions in the state"
   ]
  },
  {
   "cell_type": "code",
   "execution_count": 256,
   "metadata": {
    "scrolled": false
   },
   "outputs": [
    {
     "data": {
      "text/plain": [
       "STABBR\n",
       "AK     10\n",
       "WY     11\n",
       "HI     26\n",
       "MT     32\n",
       "ID     43\n",
       "NV     46\n",
       "NM     51\n",
       "UT     79\n",
       "OR     96\n",
       "WA    129\n",
       "CO    130\n",
       "AZ    137\n",
       "CA    754\n",
       "Name: UNITID, dtype: int64"
      ]
     },
     "execution_count": 256,
     "metadata": {},
     "output_type": "execute_result"
    },
    {
     "data": {
      "image/png": "[encoded data removed]",
      "text/plain": [
       "<matplotlib.figure.Figure at 0x1c740679358>"
      ]
     },
     "metadata": {},
     "output_type": "display_data"
    }
   ],
   "source": [
    "# Slice the data for west only\n",
    "west=c[(c['STABBR']=='AK')| (c['STABBR']=='AZ')|(c['STABBR']=='CA')| (c['STABBR']== 'CO')| (c['STABBR']=='HI')| (c['STABBR']=='ID')|(c['STABBR']=='MT')|(c['STABBR']=='NV')|(c['STABBR']=='NM')|(c['STABBR']=='OR')| (c['STABBR']=='UT')| (c['STABBR']=='WA')| (c['STABBR']=='WY')]\n",
    "\n",
    "# Sort state based on the number of institutions\n",
    "insti=west.groupby('STABBR')['UNITID'].count().sort_values()\n",
    "insti\n",
    "\n",
    "# Generate boxplot\n",
    "order = insti.index\n",
    "p = sn.boxplot(x='STABBR', y='ENRLT', order=order, data=west)"
   ]
  },
  {
   "cell_type": "markdown",
   "metadata": {
    "collapsed": true
   },
   "source": [
    "A boxplot of the average number of enrollment per gender category (hue) and state in the U.S. West\n",
    "    * Please notice that enrollment numbers for men and women are in two separate columns.\n",
    "    * Hue requires one column, which means you have to 'melt' the dataset ([Link](https://pandas.pydata.org/pandas-docs/stable/generated/pandas.melt.html)).\n",
    "    * The results should be a dataframe with two rows (one for men, one for women) for each university"
   ]
  },
  {
   "cell_type": "code",
   "execution_count": 334,
   "metadata": {
    "scrolled": false
   },
   "outputs": [
    {
     "data": {
      "text/html": [
       "<div>\n",
       "<style>\n",
       "    .dataframe thead tr:only-child th {\n",
       "        text-align: right;\n",
       "    }\n",
       "\n",
       "    .dataframe thead th {\n",
       "        text-align: left;\n",
       "    }\n",
       "\n",
       "    .dataframe tbody tr th {\n",
       "        vertical-align: top;\n",
       "    }\n",
       "</style>\n",
       "<table border=\"1\" class=\"dataframe\">\n",
       "  <thead>\n",
       "    <tr style=\"text-align: right;\">\n",
       "      <th></th>\n",
       "      <th>UNITID</th>\n",
       "      <th>INSTNM</th>\n",
       "      <th>ZIP</th>\n",
       "      <th>STABBR</th>\n",
       "      <th>Gender</th>\n",
       "      <th>Enrollment</th>\n",
       "    </tr>\n",
       "  </thead>\n",
       "  <tbody>\n",
       "    <tr>\n",
       "      <th>0</th>\n",
       "      <td>102553</td>\n",
       "      <td>University of Alaska Anchorage</td>\n",
       "      <td>99508</td>\n",
       "      <td>AK</td>\n",
       "      <td>ENRLM</td>\n",
       "      <td>776.00</td>\n",
       "    </tr>\n",
       "    <tr>\n",
       "      <th>1544</th>\n",
       "      <td>102553</td>\n",
       "      <td>University of Alaska Anchorage</td>\n",
       "      <td>99508</td>\n",
       "      <td>AK</td>\n",
       "      <td>ENRLW</td>\n",
       "      <td>968.00</td>\n",
       "    </tr>\n",
       "  </tbody>\n",
       "</table>\n",
       "</div>"
      ],
      "text/plain": [
       "      UNITID                          INSTNM    ZIP STABBR Gender  Enrollment\n",
       "0     102553  University of Alaska Anchorage  99508     AK  ENRLM      776.00\n",
       "1544  102553  University of Alaska Anchorage  99508     AK  ENRLW      968.00"
      ]
     },
     "execution_count": 334,
     "metadata": {},
     "output_type": "execute_result"
    },
    {
     "data": {
      "image/png": "[encoded data removed]",
      "text/plain": [
       "<matplotlib.figure.Figure at 0x1c740bd2240>"
      ]
     },
     "metadata": {},
     "output_type": "display_data"
    }
   ],
   "source": [
    "# Melt dataframe\n",
    "g=pd.melt(west, id_vars=['UNITID','INSTNM','ZIP','STABBR'], value_vars=['ENRLM', 'ENRLW'], var_name='Gender',value_name='Enrollment')\n",
    "\n",
    "# Double check whether there are two rows for each university\n",
    "g[g['UNITID']==102553]\n",
    "\n",
    "# Deliver boxplot\n",
    "p2 = sn.boxplot(x='STABBR', y='Enrollment', hue='Gender', data=g)"
   ]
  },
  {
   "cell_type": "markdown",
   "metadata": {
    "collapsed": true
   },
   "source": [
    " A ordered barplot of the ratio of admissions for men and women for universities in the Bay Area\n",
    "    * We assume that the Bay Area is characterized with zip codes that start with `950` and `94`\n",
    "    * Focus on institutions with more than 1,000 enrollments.\n",
    "    * Develop the ratio of admissions for women and for men. Standardize this ratio on the mean. "
   ]
  },
  {
   "cell_type": "code",
   "execution_count": 346,
   "metadata": {
    "scrolled": true
   },
   "outputs": [
    {
     "name": "stderr",
     "output_type": "stream",
     "text": [
      "E:\\Anaconda3\\lib\\site-packages\\ipykernel_launcher.py:5: SettingWithCopyWarning: \n",
      "A value is trying to be set on a copy of a slice from a DataFrame.\n",
      "Try using .loc[row_indexer,col_indexer] = value instead\n",
      "\n",
      "See the caveats in the documentation: http://pandas.pydata.org/pandas-docs/stable/indexing.html#indexing-view-versus-copy\n",
      "  \"\"\"\n",
      "E:\\Anaconda3\\lib\\site-packages\\ipykernel_launcher.py:9: SettingWithCopyWarning: \n",
      "A value is trying to be set on a copy of a slice from a DataFrame.\n",
      "Try using .loc[row_indexer,col_indexer] = value instead\n",
      "\n",
      "See the caveats in the documentation: http://pandas.pydata.org/pandas-docs/stable/indexing.html#indexing-view-versus-copy\n",
      "  if __name__ == '__main__':\n"
     ]
    },
    {
     "data": {
      "text/html": [
       "<div>\n",
       "<style>\n",
       "    .dataframe thead tr:only-child th {\n",
       "        text-align: right;\n",
       "    }\n",
       "\n",
       "    .dataframe thead th {\n",
       "        text-align: left;\n",
       "    }\n",
       "\n",
       "    .dataframe tbody tr th {\n",
       "        vertical-align: top;\n",
       "    }\n",
       "</style>\n",
       "<table border=\"1\" class=\"dataframe\">\n",
       "  <thead>\n",
       "    <tr style=\"text-align: right;\">\n",
       "      <th></th>\n",
       "      <th>UNITID</th>\n",
       "      <th>INSTNM</th>\n",
       "      <th>ZIP</th>\n",
       "      <th>STABBR</th>\n",
       "      <th>ENRLT</th>\n",
       "      <th>ENRLM</th>\n",
       "      <th>ENRLW</th>\n",
       "      <th>ADMSSNW</th>\n",
       "      <th>ADMSSNM</th>\n",
       "      <th>RATIO</th>\n",
       "    </tr>\n",
       "  </thead>\n",
       "  <tbody>\n",
       "    <tr>\n",
       "      <th>4247</th>\n",
       "      <td>243744</td>\n",
       "      <td>Stanford University</td>\n",
       "      <td>94305</td>\n",
       "      <td>CA</td>\n",
       "      <td>1739.00</td>\n",
       "      <td>854.00</td>\n",
       "      <td>885.00</td>\n",
       "      <td>1087.00</td>\n",
       "      <td>1031.00</td>\n",
       "      <td>-0.48</td>\n",
       "    </tr>\n",
       "    <tr>\n",
       "      <th>246</th>\n",
       "      <td>110635</td>\n",
       "      <td>University of California-Berkeley</td>\n",
       "      <td>94720</td>\n",
       "      <td>CA</td>\n",
       "      <td>6182.00</td>\n",
       "      <td>2997.00</td>\n",
       "      <td>3185.00</td>\n",
       "      <td>7766.00</td>\n",
       "      <td>6209.00</td>\n",
       "      <td>-0.29</td>\n",
       "    </tr>\n",
       "    <tr>\n",
       "      <th>254</th>\n",
       "      <td>110714</td>\n",
       "      <td>University of California-Santa Cruz</td>\n",
       "      <td>95064-1011</td>\n",
       "      <td>CA</td>\n",
       "      <td>4221.00</td>\n",
       "      <td>2149.00</td>\n",
       "      <td>2072.00</td>\n",
       "      <td>15883.00</td>\n",
       "      <td>12569.00</td>\n",
       "      <td>-0.27</td>\n",
       "    </tr>\n",
       "    <tr>\n",
       "      <th>505</th>\n",
       "      <td>122931</td>\n",
       "      <td>Santa Clara University</td>\n",
       "      <td>95053</td>\n",
       "      <td>CA</td>\n",
       "      <td>1317.00</td>\n",
       "      <td>650.00</td>\n",
       "      <td>667.00</td>\n",
       "      <td>4271.00</td>\n",
       "      <td>3377.00</td>\n",
       "      <td>-0.27</td>\n",
       "    </tr>\n",
       "    <tr>\n",
       "      <th>490</th>\n",
       "      <td>122597</td>\n",
       "      <td>San Francisco State University</td>\n",
       "      <td>94132</td>\n",
       "      <td>CA</td>\n",
       "      <td>3642.00</td>\n",
       "      <td>1483.00</td>\n",
       "      <td>2159.00</td>\n",
       "      <td>15688.00</td>\n",
       "      <td>9016.00</td>\n",
       "      <td>0.20</td>\n",
       "    </tr>\n",
       "    <tr>\n",
       "      <th>241</th>\n",
       "      <td>110574</td>\n",
       "      <td>California State University-East Bay</td>\n",
       "      <td>94542</td>\n",
       "      <td>CA</td>\n",
       "      <td>1596.00</td>\n",
       "      <td>588.00</td>\n",
       "      <td>1008.00</td>\n",
       "      <td>7039.00</td>\n",
       "      <td>3891.00</td>\n",
       "      <td>0.27</td>\n",
       "    </tr>\n",
       "    <tr>\n",
       "      <th>524</th>\n",
       "      <td>123572</td>\n",
       "      <td>Sonoma State University</td>\n",
       "      <td>94928-3609</td>\n",
       "      <td>CA</td>\n",
       "      <td>1806.00</td>\n",
       "      <td>629.00</td>\n",
       "      <td>1177.00</td>\n",
       "      <td>8307.00</td>\n",
       "      <td>4268.00</td>\n",
       "      <td>0.41</td>\n",
       "    </tr>\n",
       "    <tr>\n",
       "      <th>492</th>\n",
       "      <td>122612</td>\n",
       "      <td>University of San Francisco</td>\n",
       "      <td>94117-1080</td>\n",
       "      <td>CA</td>\n",
       "      <td>1587.00</td>\n",
       "      <td>576.00</td>\n",
       "      <td>1011.00</td>\n",
       "      <td>7245.00</td>\n",
       "      <td>3666.00</td>\n",
       "      <td>0.44</td>\n",
       "    </tr>\n",
       "  </tbody>\n",
       "</table>\n",
       "</div>"
      ],
      "text/plain": [
       "      UNITID                                INSTNM         ZIP STABBR   ENRLT  \\\n",
       "4247  243744                   Stanford University       94305     CA 1739.00   \n",
       "246   110635     University of California-Berkeley       94720     CA 6182.00   \n",
       "254   110714   University of California-Santa Cruz  95064-1011     CA 4221.00   \n",
       "505   122931                Santa Clara University       95053     CA 1317.00   \n",
       "490   122597        San Francisco State University       94132     CA 3642.00   \n",
       "241   110574  California State University-East Bay       94542     CA 1596.00   \n",
       "524   123572               Sonoma State University  94928-3609     CA 1806.00   \n",
       "492   122612           University of San Francisco  94117-1080     CA 1587.00   \n",
       "\n",
       "       ENRLM   ENRLW  ADMSSNW  ADMSSNM  RATIO  \n",
       "4247  854.00  885.00  1087.00  1031.00  -0.48  \n",
       "246  2997.00 3185.00  7766.00  6209.00  -0.29  \n",
       "254  2149.00 2072.00 15883.00 12569.00  -0.27  \n",
       "505   650.00  667.00  4271.00  3377.00  -0.27  \n",
       "490  1483.00 2159.00 15688.00  9016.00   0.20  \n",
       "241   588.00 1008.00  7039.00  3891.00   0.27  \n",
       "524   629.00 1177.00  8307.00  4268.00   0.41  \n",
       "492   576.00 1011.00  7245.00  3666.00   0.44  "
      ]
     },
     "execution_count": 346,
     "metadata": {},
     "output_type": "execute_result"
    },
    {
     "data": {
      "text/plain": [
       "<matplotlib.axes._subplots.AxesSubplot at 0x1c7435f8860>"
      ]
     },
     "execution_count": 346,
     "metadata": {},
     "output_type": "execute_result"
    },
    {
     "data": {
      "image/png": "[encoded data removed]",
      "text/plain": [
       "<matplotlib.figure.Figure at 0x1c7424965f8>"
      ]
     },
     "metadata": {},
     "output_type": "display_data"
    }
   ],
   "source": [
    "# Slice dataframe for Bay Area and institutions with more than 1,000 enrollments\n",
    "c1=c[(c['ZIP'].str.startswith('950')) | (c['ZIP'].str.startswith('94')) & (c['STABBR']=='CA') & (c['ENRLT']>1000)]\n",
    "\n",
    "# Develop the ratio of admissions for women and for men\n",
    "c1['RATIO']=c1['ADMSSNW']/c1['ADMSSNM']\n",
    "# Clean data\n",
    "c2=c1.dropna()\n",
    "# Standardize 'RATIO' column\n",
    "c2['RATIO']=c2['RATIO']-c2['RATIO'].mean()\n",
    "# Order by 'RATIO'\n",
    "c3=c2.sort_values('RATIO')\n",
    "c3\n",
    "\n",
    "# Generate the ordered barplot\n",
    "sn.barplot(x='UNITID', y='RATIO', order= c3.UNITID, data=c3)"
   ]
  },
  {
   "cell_type": "markdown",
   "metadata": {},
   "source": [
    "Interpret you plots in terms of gender differences. "
   ]
  },
  {
   "cell_type": "markdown",
   "metadata": {},
   "source": [
    "Answer:\n",
    "    \n",
    "    According to the second plot, we can find that woman enrollment number is normally higher than men in west, except 'NM' and 'CO'. \n",
    "    \n",
    "    As for the third one, we can interpret it as the standard deviation of ratio of admission woman to admission man based on universities in Bay Area, and from that we can see the discrete level of this data and this dataset is quite stable which means women admission is normally higher than that of man in Bay Area universities."
   ]
  }
 ],
 "metadata": {
  "kernelspec": {
   "display_name": "Python 3",
   "language": "python",
   "name": "python3"
  },
  "language_info": {
   "codemirror_mode": {
    "name": "ipython",
    "version": 3
   },
   "file_extension": ".py",
   "mimetype": "text/x-python",
   "name": "python",
   "nbconvert_exporter": "python",
   "pygments_lexer": "ipython3",
   "version": "3.6.3"
  },
  "toc": {
   "nav_menu": {},
   "number_sections": true,
   "sideBar": true,
   "skip_h1_title": false,
   "title_cell": "Table of Contents",
   "title_sidebar": "Contents",
   "toc_cell": false,
   "toc_position": {},
   "toc_section_display": "block",
   "toc_window_display": false
  },
  "varInspector": {
   "cols": {
    "lenName": 16,
    "lenType": 16,
    "lenVar": 40
   },
   "kernels_config": {
    "python": {
     "delete_cmd_postfix": "",
     "delete_cmd_prefix": "del ",
     "library": "var_list.py",
     "varRefreshCmd": "print(var_dic_list())"
    },
    "r": {
     "delete_cmd_postfix": ") ",
     "delete_cmd_prefix": "rm(",
     "library": "var_list.r",
     "varRefreshCmd": "cat(var_dic_list()) "
    }
   },
   "types_to_exclude": [
    "module",
    "function",
    "builtin_function_or_method",
    "instance",
    "_Feature"
   ],
   "window_display": false
  }
 },
 "nbformat": 4,
 "nbformat_minor": 2
}
