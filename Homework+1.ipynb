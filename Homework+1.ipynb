{
 "cells": [
  {
   "cell_type": "markdown",
   "metadata": {
    "ExecuteTime": {
     "end_time": "2018-01-09T22:16:12.534253Z",
     "start_time": "2018-01-09T22:16:12.530354Z"
    }
   },
   "source": [
    "# Homework 1: A Simple Sentiment Analysis of Tweets"
   ]
  },
  {
   "cell_type": "markdown",
   "metadata": {},
   "source": [
    "The objective of this homework is to assess your current skills and your ability to solve an unknown problem. To successfully complete this homework, you may use any resources available to you."
   ]
  },
  {
   "cell_type": "markdown",
   "metadata": {
    "ExecuteTime": {
     "end_time": "2018-01-09T22:43:29.993598Z",
     "start_time": "2018-01-09T22:43:29.974919Z"
    }
   },
   "source": [
    "You need to accomplish the following tasks:\n",
    "1. Choose a Twitter API.\n",
    "1. Configure access to the Twitter API\n",
    "2. Identify a trending topic on Twitter.\n",
    "3. Get at least 500 tweets on your trending topic.\n",
    "3. Find lists of stopwords, positive words, and negative words.\n",
    "4. Calculate the ratio of positive to negative words in your sample.\n",
    "    \n",
    "Answer the following questions: \n",
    "* __What is the ratio of positive to negative words on your trending topic?__ \n",
    "* __What is your interpretation of the ratio?__\n",
    "* __What is the managerial insight that you could offer based on your results?__\n",
    "\n",
    "If you use tutorials/code snippets that you find on the internet to complete this task, make sure that you reference them. Also make sure that the Jupyter notebook is free of mistakes, well-documented, and professionally formatted before you submit it.\n",
    "\n",
    "This homework is due on Friday, 12 2018."
   ]
  },
  {
   "cell_type": "markdown",
   "metadata": {},
   "source": [
    "Title: Twitter Sentimental Analysis\n",
    "Author: Xiao Zhang\n",
    "\n",
    "Note: before reviewing the code, I take the \"words\" in the question as \"topics\""
   ]
  },
  {
   "cell_type": "code",
   "execution_count": 182,
   "metadata": {
    "ExecuteTime": {
     "end_time": "2018-01-09T22:48:15.638542Z",
     "start_time": "2018-01-09T22:48:15.633807Z"
    },
    "collapsed": true
   },
   "outputs": [],
   "source": [
    "from IPython.core.interactiveshell import InteractiveShell\n",
    "InteractiveShell.ast_node_interactivity = \"all\""
   ]
  },
  {
   "cell_type": "code",
   "execution_count": 183,
   "metadata": {
    "collapsed": true
   },
   "outputs": [],
   "source": [
    "import re\n",
    "import tweepy\n",
    "import twitter\n",
    "from textblob import TextBlob\n",
    "from twitter import Twitter, OAuth"
   ]
  },
  {
   "cell_type": "code",
   "execution_count": 185,
   "metadata": {},
   "outputs": [
    {
     "ename": "NameError",
     "evalue": "name 'api' is not defined",
     "output_type": "error",
     "traceback": [
      "\u001b[1;31m---------------------------------------------------------------------------\u001b[0m",
      "\u001b[1;31mNameError\u001b[0m                                 Traceback (most recent call last)",
      "\u001b[1;32m<ipython-input-185-bd91f66c404a>\u001b[0m in \u001b[0;36m<module>\u001b[1;34m()\u001b[0m\n\u001b[0;32m     90\u001b[0m \u001b[1;33m\u001b[0m\u001b[0m\n\u001b[0;32m     91\u001b[0m \u001b[1;31m# Call main()\u001b[0m\u001b[1;33m\u001b[0m\u001b[1;33m\u001b[0m\u001b[0m\n\u001b[1;32m---> 92\u001b[1;33m \u001b[0mmain\u001b[0m\u001b[1;33m(\u001b[0m\u001b[1;33m)\u001b[0m\u001b[1;33m\u001b[0m\u001b[0m\n\u001b[0m",
      "\u001b[1;32m<ipython-input-185-bd91f66c404a>\u001b[0m in \u001b[0;36mmain\u001b[1;34m()\u001b[0m\n\u001b[0;32m     75\u001b[0m     \u001b[0mc1\u001b[0m \u001b[1;33m=\u001b[0m \u001b[0mTwitterConsumer\u001b[0m\u001b[1;33m(\u001b[0m\u001b[1;33m)\u001b[0m\u001b[1;33m\u001b[0m\u001b[0m\n\u001b[0;32m     76\u001b[0m     \u001b[1;31m# Get tweets about the past CES event\u001b[0m\u001b[1;33m\u001b[0m\u001b[1;33m\u001b[0m\u001b[0m\n\u001b[1;32m---> 77\u001b[1;33m     \u001b[0mtweets\u001b[0m \u001b[1;33m=\u001b[0m \u001b[0mc1\u001b[0m\u001b[1;33m.\u001b[0m\u001b[0mget_tweets\u001b[0m\u001b[1;33m(\u001b[0m\u001b[1;34m'#CES'\u001b[0m\u001b[1;33m,\u001b[0m \u001b[1;36m500\u001b[0m\u001b[1;33m)\u001b[0m\u001b[1;33m\u001b[0m\u001b[0m\n\u001b[0m\u001b[0;32m     78\u001b[0m \u001b[1;33m\u001b[0m\u001b[0m\n\u001b[0;32m     79\u001b[0m     \u001b[1;31m# Find positive tweets from tweets\u001b[0m\u001b[1;33m\u001b[0m\u001b[1;33m\u001b[0m\u001b[0m\n",
      "\u001b[1;32m<ipython-input-185-bd91f66c404a>\u001b[0m in \u001b[0;36mget_tweets\u001b[1;34m(self, query, count)\u001b[0m\n\u001b[0;32m     43\u001b[0m         \u001b[1;32mtry\u001b[0m\u001b[1;33m:\u001b[0m\u001b[1;33m\u001b[0m\u001b[0m\n\u001b[0;32m     44\u001b[0m \u001b[1;33m\u001b[0m\u001b[0m\n\u001b[1;32m---> 45\u001b[1;33m             \u001b[0mraw_tweets\u001b[0m \u001b[1;33m=\u001b[0m \u001b[0mapi\u001b[0m\u001b[1;33m.\u001b[0m\u001b[0mGetSearch\u001b[0m\u001b[1;33m(\u001b[0m\u001b[0mself\u001b[0m\u001b[1;33m,\u001b[0m \u001b[0mper_page\u001b[0m\u001b[1;33m=\u001b[0m\u001b[1;36m100\u001b[0m\u001b[1;33m,\u001b[0m \u001b[0mpage\u001b[0m\u001b[1;33m=\u001b[0m\u001b[0mi\u001b[0m\u001b[1;33m)\u001b[0m\u001b[1;33m\u001b[0m\u001b[0m\n\u001b[0m\u001b[0;32m     46\u001b[0m \u001b[1;33m\u001b[0m\u001b[0m\n\u001b[0;32m     47\u001b[0m             \u001b[1;32mfor\u001b[0m \u001b[0mtweet\u001b[0m \u001b[1;32min\u001b[0m \u001b[0mraw_tweets\u001b[0m\u001b[1;33m:\u001b[0m\u001b[1;33m\u001b[0m\u001b[0m\n",
      "\u001b[1;31mNameError\u001b[0m: name 'api' is not defined"
     ]
    }
   ],
   "source": [
    "class TwitterConsumer(object):\n",
    "    \n",
    "    def _init_(self):\n",
    "        # My credentials to access Twitter API\n",
    "        consumer_key = 'E5NyOKATic2KVFQD8bFACi7ws'\n",
    "        consumer_secret = 'dHHBhbfpbZNDPZlUDD4ZMWYYdSwpaVbq2tsLPCrHPvZ2pe9etF'\n",
    "        access_token = '940798876210155521-sIOX6DRJ78iI6aYz8pPxNvTEDRHAfxk'\n",
    "        access_token_secret = 'YcB0GVNSzCxMw2QMs2MRucdmI3yOEDSZDTaCMyrotIUM9'\n",
    "        \n",
    "        try:        \n",
    "            api = twitter.Api(  consumer_key='consumer_key',\n",
    "                                consumer_secret='consumer_secret',\n",
    "                                access_token_key='access_token',\n",
    "                                access_token_secret='access_token_secret')\n",
    "        except:\n",
    "            print(\"Error: Authentication Failed\")\n",
    "\n",
    "\n",
    "            \n",
    "    # Remove links, special characters using simple regex statements\n",
    "    # Reference link:\n",
    "    # https://www.geeksforgeeks.org/twitter-sentiment-analysis-using-python/\n",
    "    def revised_tweet(self, tweet):\n",
    "        return ' '.join(re.sub(\"(@[A-Za-z0-9]+)|([^0-9A-Za-z])|(\\w+:\\\n",
    "    S+)\", \" \", tweet).split())\n",
    "    \n",
    "    # Use textblob's sentiment method to classify sentiment of tweet\n",
    "    def tweet_sentiment(self, tweet):\n",
    "        # create TextBlob object of tweet text\n",
    "        analysis = TextBlob(self.revised_tweet(tweet))\n",
    "        # set sentiment\n",
    "        if analysis.sentiment.polarity > 0:\n",
    "            return 'positive words'\n",
    "        elif analysis.sentiment.polarity == 0:\n",
    "            return 'stopwords'\n",
    "        else:\n",
    "            return 'negative words'\n",
    "        \n",
    "     # Acquire tweets\n",
    "    def get_tweets(self, query, count=10):\n",
    "         # empty list to store parsed tweets\n",
    "        tweets = []\n",
    "        \n",
    "        try:\n",
    "\n",
    "            raw_tweets = api.GetSearch(self, per_page=100, page=i)\n",
    " \n",
    "            for tweet in raw_tweets:\n",
    "                # Set up the dict of text and sentiment\n",
    "                new_tweet = {}\n",
    "                # saving key as 'text' of tweet\n",
    "                new_tweet['text'] = tweet.text\n",
    "                # saving key asy 'sentiment' of tweet\n",
    "                new_tweet['sentiment'] = tweet_sentiment(tweet.text)\n",
    "                \n",
    "                # appending tweet to tweets list\n",
    "                \n",
    "                if tweet.retweet_count > 0:\n",
    "                    # if tweet has retweets, ensure that it is appended only once\n",
    "                    if new_tweet not in tweets:\n",
    "                        tweets.append(new_tweet)\n",
    "                else:\n",
    "                    tweets.append(new_tweet)\n",
    "                    \n",
    "              # return parsed tweets \n",
    "            return tweets\n",
    "            \n",
    "        except tweepy.TweepError as e:\n",
    "                # print error (if any)\n",
    "                print(\"Error : \" + str(e))\n",
    "                \n",
    "\n",
    "                \n",
    "def main():\n",
    "    # creating object c1 of TwitterClient Class\n",
    "    c1 = TwitterConsumer()\n",
    "    # Get tweets about the past CES event\n",
    "    tweets = c1.get_tweets('#CES', 500)\n",
    "    \n",
    "    # Find positive tweets from tweets\n",
    "    ptweets = [tweet for tweet in tweets if tweet['sentiment'] == 'positive']\n",
    "    # percentage of positive tweets\n",
    "    print(\"Positive tweets ratio: {} %\".format(100*len(ptweets)/len(tweets)))\n",
    "    # Find negative tweets from tweets\n",
    "    ntweets = [tweet for tweet in tweets if tweet['sentiment'] == 'negative']\n",
    "    # percentage of negative tweets\n",
    "    print(\"Negative tweets ratio: {} %\".format(100*len(ntweets)/len(tweets)))\n",
    "    # Find stopwords from tweets\n",
    "    ntweets = [tweet for tweet in tweets if tweet['sentiment'] == 'neutral']\n",
    "    \n",
    "    \n",
    "# Call main()\n",
    "main()"
   ]
  },
  {
   "cell_type": "code",
   "execution_count": null,
   "metadata": {
    "collapsed": true
   },
   "outputs": [],
   "source": []
  }
 ],
 "metadata": {
  "kernelspec": {
   "display_name": "Python 3",
   "language": "python",
   "name": "python3"
  },
  "language_info": {
   "codemirror_mode": {
    "name": "ipython",
    "version": 3
   },
   "file_extension": ".py",
   "mimetype": "text/x-python",
   "name": "python",
   "nbconvert_exporter": "python",
   "pygments_lexer": "ipython3",
   "version": "3.6.3"
  },
  "toc": {
   "nav_menu": {},
   "number_sections": true,
   "sideBar": true,
   "skip_h1_title": false,
   "toc_cell": false,
   "toc_position": {},
   "toc_section_display": "block",
   "toc_window_display": false
  },
  "varInspector": {
   "cols": {
    "lenName": 16,
    "lenType": 16,
    "lenVar": 40
   },
   "kernels_config": {
    "python": {
     "delete_cmd_postfix": "",
     "delete_cmd_prefix": "del ",
     "library": "var_list.py",
     "varRefreshCmd": "print(var_dic_list())"
    },
    "r": {
     "delete_cmd_postfix": ") ",
     "delete_cmd_prefix": "rm(",
     "library": "var_list.r",
     "varRefreshCmd": "cat(var_dic_list()) "
    }
   },
   "types_to_exclude": [
    "module",
    "function",
    "builtin_function_or_method",
    "instance",
    "_Feature"
   ],
   "window_display": false
  }
 },
 "nbformat": 4,
 "nbformat_minor": 2
}
